{
 "cells": [
  {
   "cell_type": "markdown",
   "metadata": {},
   "source": [
    "**Problem Statement** <br/>\n",
    "Assume you work for a start-up company whose business model is to make available local delicacies \n",
    "across India. They work on the promise of same day delivery of food items across India and are trying \n",
    "to build a logistical chain for the same which can deliver across Airports using their patented food \n",
    "boxes which preserve the food quality within transit. Your team is tasked with developing a system \n",
    "which can record all air cargo delivery routes that are available between airports in India. The data is \n",
    "captured such that each cargo plane and its associated airports are captured as vertices and the \n",
    "association as edges. Assume that the flights are bi-directional, that means the same cargo flight \n",
    "number is used for the onward and return journey. "
   ]
  },
  {
   "cell_type": "markdown",
   "metadata": {},
   "source": [
    "**Reading the data**"
   ]
  },
  {
   "cell_type": "markdown",
   "metadata": {},
   "source": [
    "def readAirportFlightfile(self, inputfile): This function reads the input file inputPS15.txt\n",
    "containing the name of the airport and the cargo flights between them in one line separated \n",
    "by a slash. A sample input file entry is shown below. The flight number is the first entry in \n",
    "each row followed by the different airports it services separated by a slash ‘/’ <br/><br/>\n",
    "indigo777 / Chennai / New Delhi <br/><br/>\n",
    "The function should create relevant vertices for both the cargo flights and its associated \n",
    "airports and relevant edges to indicate the association of a flight and its connecting airports. \n",
    "Ensure that the vertices are unique and there are no duplicates.\n"
   ]
  },
  {
   "cell_type": "markdown",
   "metadata": {},
   "source": [
    "### Helper Functions"
   ]
  },
  {
   "cell_type": "code",
   "execution_count": 1,
   "metadata": {},
   "outputs": [],
   "source": [
    "def print_matrix(matrix):\n",
    "    r,c = len(matrix), len(matrix[0])\n",
    "    for i in range(r):\n",
    "        for j in range(c):\n",
    "            print(matrix[i][j], end='\\t')\n",
    "        print()"
   ]
  },
  {
   "cell_type": "code",
   "execution_count": 2,
   "metadata": {},
   "outputs": [],
   "source": [
    "def write_to_file(message):\n",
    "    out_file = open('outputPS15.txt', 'a')\n",
    "    out_file.write(message)\n",
    "    out_file.close()"
   ]
  },
  {
   "cell_type": "markdown",
   "metadata": {},
   "source": [
    "##### Decorator function to validate input"
   ]
  },
  {
   "cell_type": "code",
   "execution_count": 3,
   "metadata": {},
   "outputs": [],
   "source": [
    "# Decorator function to validate airport names\n",
    "def validate_airport_name(orig_func):\n",
    "    def wrapper_func(*args, **kwargs):\n",
    "        for arg in args:\n",
    "            # print(\"Arguments: {}\".format(arg))\n",
    "            airports_list = list(airports_dict.keys())\n",
    "            # Include True and False to list to cover the \"internal\" variable value\n",
    "            airports_list.append(True)\n",
    "            airports_list.append(False)\n",
    "            if arg not in airports_list:\n",
    "                return \"Invalid airport name {} passed to {}\".format(arg,orig_func.__name__)\n",
    "        return orig_func(*args, **kwargs)\n",
    "    return wrapper_func"
   ]
  },
  {
   "cell_type": "code",
   "execution_count": 4,
   "metadata": {},
   "outputs": [],
   "source": [
    "# Decorator function to validate flight names\n",
    "def validate_flight_name(orig_func):\n",
    "    def wrapper_func(*args, **kwargs):\n",
    "        for arg in args:\n",
    "            # print(\"Arguments: {}\".format(arg))\n",
    "            flights_list = list(flights_dict.keys())\n",
    "            # Include True and False to list to cover the \"internal\" variable value\n",
    "            flights_list.append(True)\n",
    "            flights_list.append(False)\n",
    "            if arg not in flights_list:\n",
    "                return \"Invalid flight name {} passed to {}\".format(arg,orig_func.__name__)\n",
    "        return orig_func(*args, **kwargs)\n",
    "    return wrapper_func"
   ]
  },
  {
   "cell_type": "code",
   "execution_count": 5,
   "metadata": {},
   "outputs": [],
   "source": [
    "def readAirportFlightfile(inputfile):\n",
    "    with open(inputfile, \"r\") as f:\n",
    "        data = f.readlines()\n",
    "        # print(\"Read Data --> \", data)\n",
    "\n",
    "    airports_dict= {}\n",
    "    flights_dict= {}\n",
    "    graph_data = {}\n",
    "    n_counter, e_counter = 0, 0\n",
    "    for i in data:\n",
    "        i = i.split(\"/\")\n",
    "        i = list(map(str.strip, i))\n",
    "        if \"\" in i:\n",
    "            i.remove(\"\")\n",
    "        if len(i) != 0:\n",
    "            edge = i[0]\n",
    "            nodes = i[1:]\n",
    "            if edge not in graph_data:\n",
    "                graph_data[edge] = []\n",
    "                for n in nodes:\n",
    "                    if n not in graph_data[edge]:\n",
    "                        graph_data[edge].append(n)\n",
    "            if edge not in list(flights_dict.keys()):\n",
    "                flights_dict[edge] = e_counter\n",
    "                e_counter = e_counter + 1\n",
    "            for n in nodes:\n",
    "                if n not in list(airports_dict.keys()):\n",
    "                    airports_dict[n] = n_counter\n",
    "                    n_counter = n_counter + 1\n",
    "\n",
    "    # Fill adjacency matrix\n",
    "    # matrix rows = flights\n",
    "    # matrix cols = airports    \n",
    "    r,c = len(flights_dict), len(airports_dict)\n",
    "    adj_matrix = [[0]*c for _ in range(r)]\n",
    "\n",
    "\n",
    "    for flight in graph_data:\n",
    "        row_id = flights_dict[flight]\n",
    "        for airport in graph_data[flight]:\n",
    "            col_id = airports_dict[airport]\n",
    "            adj_matrix[row_id][col_id] = 1\n",
    "\n",
    "    \n",
    "    return adj_matrix, airports_dict, flights_dict "
   ]
  },
  {
   "cell_type": "code",
   "execution_count": 6,
   "metadata": {},
   "outputs": [
    {
     "name": "stdout",
     "output_type": "stream",
     "text": [
      "1\t1\t0\t0\t0\t0\t0\t0\t\n",
      "0\t1\t1\t0\t0\t0\t0\t0\t\n",
      "0\t0\t0\t1\t1\t1\t0\t0\t\n",
      "0\t1\t0\t1\t0\t0\t0\t0\t\n",
      "0\t0\t0\t0\t0\t0\t1\t1\t\n",
      "0\t1\t0\t0\t1\t0\t0\t0\t\n"
     ]
    }
   ],
   "source": [
    "adj_matrix, airports_dict, flights_dict = readAirportFlightfile(\"inputPS15.txt\")\n",
    "print_matrix(adj_matrix)\n",
    "# print(graph_data)\n",
    "# print(\"Airports: \", airports_dict)\n",
    "# print(\"Flights: \", flight_dict)"
   ]
  },
  {
   "cell_type": "markdown",
   "metadata": {},
   "source": [
    "**List of unique cargo planes and list of unique airports that have delivery service.**"
   ]
  },
  {
   "cell_type": "markdown",
   "metadata": {},
   "source": [
    "def showAll(self): This function displays the count of unique cargo flights and airports \n",
    "entered through the input file. It should also list out the unique cargo flights and airports that \n",
    "have cargo service stored. This function is called after all input data has been captured. The \n",
    "output of this function should be pushed into outputPS15.txt file. The output format should \n",
    "be as mentioned below. "
   ]
  },
  {
   "cell_type": "code",
   "execution_count": 7,
   "metadata": {},
   "outputs": [],
   "source": [
    "def showAll():\n",
    "        \n",
    "    cargo_flights = list(flights_dict.keys())\n",
    "    airports = list(airports_dict.keys())\n",
    "    \n",
    "    output_msg = \"--------Function showAll --------\\n\"\n",
    "    \n",
    "    output_msg += \"Total number of cargo flights: {}\\n\".format(len(cargo_flights))\n",
    "    \n",
    "    output_msg += \"Total number of Airports: {}\\n\".format(len(airports))\n",
    "    \n",
    "    output_msg += \"\\nList of cargo flights: \"\n",
    "    for i in cargo_flights:\n",
    "        output_msg += \"\\n{}\".format(i)\n",
    "\n",
    "    output_msg += \"\\n\\nList of Airports: \"\n",
    "    for i in airports:\n",
    "        output_msg += \"\\n{}\".format(i)\n",
    "    \n",
    "    output_msg += \"\\n---------------------------------------\\n\"\n",
    "    print(output_msg)\n",
    "    write_to_file(output_msg)"
   ]
  },
  {
   "cell_type": "code",
   "execution_count": 8,
   "metadata": {},
   "outputs": [
    {
     "name": "stdout",
     "output_type": "stream",
     "text": [
      "--------Function showAll --------\n",
      "Total number of cargo flights: 6\n",
      "Total number of Airports: 8\n",
      "\n",
      "List of cargo flights: \n",
      "Indigo666\n",
      "Indigo777\n",
      "Spicejet222\n",
      "AirIndia111\n",
      "Vistara555\n",
      "VGT123\n",
      "\n",
      "List of Airports: \n",
      "Chennai\n",
      "New Delhi\n",
      "Calcutta\n",
      "Ahmedabad\n",
      "Nagpur\n",
      "Mumbai\n",
      "Vishakhapatnam\n",
      "Hyderabad\n",
      "---------------------------------------\n",
      "\n"
     ]
    }
   ],
   "source": [
    "showAll()"
   ]
  },
  {
   "cell_type": "markdown",
   "metadata": {},
   "source": [
    "###  def displayHubAirport(self): \n",
    "This function displays the name of the airport which is visited by the most number of cargo flights. The function also displays the names of the incoming cargo flights to the outputPS15 file. \n",
    "The function is triggered when the ‘searchHubAirport’ tag is found in the file promptsPS15.txt file.\n",
    "\n",
    "searchHubAirport:\n",
    "\n",
    "The output of this function should be appended into outputPS15.txt file. \n",
    "The output format should be as mentioned below.\n",
    "\n",
    "\"-------- Function displayHubAirport --------\n",
    "\n",
    "Main hub airport: New Delhi\n",
    "\n",
    "Number of cargo flights visited: 3\n",
    "\n",
    "List of Cargo Flights:\n",
    "\n",
    "Indigo666\n",
    "\n",
    "AirIndia111\n",
    "\n",
    "GoAir222\n",
    "\n",
    "\n",
    "-----------------------------------------\""
   ]
  },
  {
   "cell_type": "code",
   "execution_count": 9,
   "metadata": {},
   "outputs": [],
   "source": [
    "def displayHubAirport():\n",
    "    max_tot_flights = 0\n",
    "    hub_airport = \"\"\n",
    "    hub_flights_lst = []\n",
    "    airports = list(airports_dict.keys())\n",
    "    flights = list(flights_dict.keys())\n",
    "    for airport in airports:\n",
    "        # print(airports_dict[airport])\n",
    "        airport_id = airports_dict[airport]\n",
    "        # print(airport_id)\n",
    "        total_flights = 0\n",
    "        flights_lst = []\n",
    "        for flight in flights:\n",
    "            flight_id = flights_dict[flight]\n",
    "            total_flights += adj_matrix[flight_id][airport_id]\n",
    "            if adj_matrix[flight_id][airport_id]:\n",
    "                flights_lst.append(flight)\n",
    "        if max_tot_flights < total_flights:\n",
    "            max_tot_flights = total_flights\n",
    "            hub_airport = airport\n",
    "            hub_flights_lst = flights_lst\n",
    "\n",
    "    \n",
    "\n",
    "    output_msg = \"\\n\\n--------Function displayHubAirport --------\\n\"\n",
    "    output_msg += \"Main hub airport: {}\\n\".format(hub_airport)\n",
    "    output_msg += \"Number of cargo flights visited: {}\\n\".format(max_tot_flights)\n",
    "    output_msg += \"List of Cargo Flights:\\n\"\n",
    "    for f in hub_flights_lst:\n",
    "        output_msg += \"{}\\n\".format(f)\n",
    "    output_msg += \"-----------------------------------------\\n\"\n",
    "    print(output_msg)\n",
    "    write_to_file(output_msg)"
   ]
  },
  {
   "cell_type": "code",
   "execution_count": 10,
   "metadata": {},
   "outputs": [
    {
     "name": "stdout",
     "output_type": "stream",
     "text": [
      "\n",
      "\n",
      "--------Function displayHubAirport --------\n",
      "Main hub airport: New Delhi\n",
      "Number of cargo flights visited: 4\n",
      "List of Cargo Flights:\n",
      "Indigo666\n",
      "Indigo777\n",
      "AirIndia111\n",
      "VGT123\n",
      "-----------------------------------------\n",
      "\n"
     ]
    }
   ],
   "source": [
    "displayHubAirport()"
   ]
  },
  {
   "cell_type": "markdown",
   "metadata": {},
   "source": [
    "This function displays all the airports are connected by a single cargo flight. The function reads the input cargo flight number from the file promptsPS15.txt with the tag as shown below.\n",
    "\n",
    "searchFlight: Indigo666\n",
    "\n",
    "searchFlight: AirIndia111\n",
    "\n",
    "The output of this function should be appended into outputPS15.txt file. If a flight is not found, an appropriate message should be output to file. \n",
    "The output format should be as mentioned below.\n",
    "\n",
    "--------Function displayConnectedAirports --------\n",
    "\n",
    "Cargo flight number: Indigo666\n",
    "\n",
    "Number of airports connected: 3\n",
    "\n",
    "List of airports connected directly by : Indigo666\n",
    "\n",
    "Ahmedabad\n",
    "\n",
    "Mumbai\n",
    "\n",
    "Nagpur\n",
    "\n",
    "-----------------------------------------\n"
   ]
  },
  {
   "cell_type": "code",
   "execution_count": 11,
   "metadata": {},
   "outputs": [],
   "source": [
    "# internal = True when called by other internal functions. Default False\n",
    "@validate_flight_name\n",
    "def displayConnectedAirports(flight, internal=False):\n",
    "    connected_airports = []\n",
    "    airports = list(airports_dict.keys())\n",
    "    flight_id = flights_dict[flight]\n",
    "    for airport in airports:\n",
    "        airport_id = airports_dict[airport]\n",
    "        if adj_matrix[flight_id][airport_id]:\n",
    "            connected_airports.append(airport)\n",
    "\n",
    "    \n",
    "\n",
    "    output_msg = \"\\n--------Function displayConnectedAirports --------\"\n",
    "    output_msg += \"\\nCargo flight number: {}\".format(flight)\n",
    "    output_msg += \"\\nNumber of airports connected: {}\".format(len(connected_airports))\n",
    "    output_msg += \"\\nList of airports connected directly by : {}\".format(flight)\n",
    "    for ap in connected_airports:\n",
    "        output_msg += \"\\n {}\".format(ap)\n",
    "    output_msg += \"\\n-----------------------------------------\\n\"\n",
    "    if internal==False:\n",
    "        print(output_msg)\n",
    "        write_to_file(output_msg)\n",
    "    return connected_airports\n",
    "    "
   ]
  },
  {
   "cell_type": "code",
   "execution_count": 12,
   "metadata": {},
   "outputs": [
    {
     "name": "stdout",
     "output_type": "stream",
     "text": [
      "\n",
      "--------Function displayConnectedAirports --------\n",
      "Cargo flight number: Spicejet222\n",
      "Number of airports connected: 3\n",
      "List of airports connected directly by : Spicejet222\n",
      " Ahmedabad\n",
      " Nagpur\n",
      " Mumbai\n",
      "-----------------------------------------\n",
      "\n"
     ]
    },
    {
     "data": {
      "text/plain": [
       "['Ahmedabad', 'Nagpur', 'Mumbai']"
      ]
     },
     "execution_count": 12,
     "metadata": {},
     "output_type": "execute_result"
    }
   ],
   "source": [
    "displayConnectedAirports(\"Spicejet222\")\n"
   ]
  },
  {
   "cell_type": "markdown",
   "metadata": {},
   "source": [
    "### def displayConnectedFlights(airport):\n",
    "This function displays all the flights are connected to a single airport."
   ]
  },
  {
   "cell_type": "code",
   "execution_count": 13,
   "metadata": {},
   "outputs": [],
   "source": [
    "@validate_airport_name\n",
    "def displayConnectedFlights(airport):\n",
    "    connected_flights = []\n",
    "    flights = list(flights_dict.keys())\n",
    "    airport_id = airports_dict[airport]\n",
    "    for flight in flights:\n",
    "        flight_id = flights_dict[flight]\n",
    "        if adj_matrix[flight_id][airport_id]:\n",
    "            connected_flights.append(flight)\n",
    "\n",
    "    \n",
    "\n",
    "    output_msg = \"\\n--------Function displayConnectedFlights --------\"\n",
    "    output_msg += \"\\nAirport : {}\".format(airport)\n",
    "    output_msg += \"\\nNumber of flights connected: {}\".format(len(connected_flights))\n",
    "    output_msg += \"\\nList of flights connected directly to : {}\".format(airport)\n",
    "    for fl in connected_flights:\n",
    "        output_msg += \"\\n {}\".format(fl)\n",
    "    output_msg += \"\\n-----------------------------------------\\n\"\n",
    "    # print(output_msg)\n",
    "    # write_to_file(output_msg)\n",
    "    return connected_flights"
   ]
  },
  {
   "cell_type": "code",
   "execution_count": 14,
   "metadata": {},
   "outputs": [
    {
     "data": {
      "text/plain": [
       "['Indigo666', 'Indigo777', 'AirIndia111', 'VGT123']"
      ]
     },
     "execution_count": 14,
     "metadata": {},
     "output_type": "execute_result"
    }
   ],
   "source": [
    "displayConnectedFlights(\"New Delhi\")"
   ]
  },
  {
   "cell_type": "markdown",
   "metadata": {},
   "source": [
    "### 5. def displayDirectFlight(self, airport a, airport b):\n",
    "\n",
    "This function displays the cargo flight name which can be booked to send a food box directly from airport a to airport b.\n",
    " The function reads the input airports from the file promptsPS15.txt with the tag as shown below.\n",
    "\n",
    " \n",
    "searchAirports: Calcutta: New Delhi\n",
    "\n",
    "searchAirports: Chennai: Hyderabad\n",
    "\n",
    "The output of this function should be appended into outputPS15.txt file. \n",
    "If there is no direct flight or an airport is not found, an appropriate message should be output to the file.\n",
    " The output format should be as mentioned below. If there is more than one flight that can be booked, the flight number you encounter first can be output.\n",
    "\n",
    "--------Function displayDirectFlight --------\n",
    "\n",
    "Airport A: Calcutta\n",
    "\n",
    "Airport B: New Delhi\n",
    "\n",
    "Food box can be sent directly: Yes, Indigo666 (if no, display appropriate message)\n",
    "\n",
    "\n",
    "-----------------------------------------\n",
    "\n"
   ]
  },
  {
   "cell_type": "code",
   "execution_count": 15,
   "metadata": {},
   "outputs": [],
   "source": [
    "# internal = True when called by other internal functions. Default False\n",
    "@validate_airport_name\n",
    "def displayDirectFlight(airport_a, airport_b, internal=False):\n",
    "\n",
    "    output_msg = \"\\n--------Function displayDirectFlight --------\\n\"\n",
    "    output_msg += \"Airport A: {}\\n\".format(airport_a)\n",
    "    output_msg += \"Airport B: {}\\n\".format(airport_b)\n",
    "    flights = list(flights_dict.keys())\n",
    "    airport_a_id, airport_b_id = airports_dict[airport_a], airports_dict[airport_b]\n",
    "    for flight in flights:\n",
    "        flight_id = flights_dict[flight]\n",
    "        if adj_matrix[flight_id][airport_a_id] & adj_matrix[flight_id][airport_b_id]:\n",
    "            output_msg += \"Food box can be sent directly: Yes, {}\\n\".format(flight)\n",
    "            output_msg += \"-----------------------------------------\\n\"\n",
    "            if internal==False:\n",
    "                print(output_msg)\n",
    "                write_to_file(output_msg)\n",
    "            return flight\n",
    "    output_msg += \"Food box can be sent directly: No, There are no direct flights available.\\n\"\n",
    "    output_msg += \"-----------------------------------------\\n\"\n",
    "    if internal==False:\n",
    "        print(output_msg)\n",
    "        write_to_file(output_msg)\n",
    "    return None"
   ]
  },
  {
   "cell_type": "code",
   "execution_count": 16,
   "metadata": {},
   "outputs": [
    {
     "name": "stdout",
     "output_type": "stream",
     "text": [
      "\n",
      "--------Function displayDirectFlight --------\n",
      "Airport A: Chennai\n",
      "Airport B: New Delhi\n",
      "Food box can be sent directly: Yes, Indigo666\n",
      "-----------------------------------------\n",
      "\n",
      "\n",
      "--------Function displayDirectFlight --------\n",
      "Airport A: Calcutta\n",
      "Airport B: New Delhi\n",
      "Food box can be sent directly: Yes, Indigo777\n",
      "-----------------------------------------\n",
      "\n",
      "\n",
      "--------Function displayDirectFlight --------\n",
      "Airport A: Ahmedabad\n",
      "Airport B: Nagpur\n",
      "Food box can be sent directly: Yes, Spicejet222\n",
      "-----------------------------------------\n",
      "\n",
      "\n",
      "--------Function displayDirectFlight --------\n",
      "Airport A: Ahmedabad\n",
      "Airport B: Mumbai\n",
      "Food box can be sent directly: Yes, Spicejet222\n",
      "-----------------------------------------\n",
      "\n",
      "\n",
      "--------Function displayDirectFlight --------\n",
      "Airport A: Ahmedabad\n",
      "Airport B: Chennai\n",
      "Food box can be sent directly: No, There are no direct flights available.\n",
      "-----------------------------------------\n",
      "\n"
     ]
    }
   ],
   "source": [
    "displayDirectFlight(\"Chennai\",\"New Delhi\")\n",
    "displayDirectFlight(\"Calcutta\",\"New Delhi\")\n",
    "displayDirectFlight(\"Ahmedabad\",\"Nagpur\")\n",
    "displayDirectFlight(\"Ahmedabad\",\"Mumbai\")\n",
    "displayDirectFlight(\"Ahmedabad\",\"Chennai\")"
   ]
  },
  {
   "cell_type": "markdown",
   "metadata": {},
   "source": [
    "### 6. def findServiceAvailable(self, airport a, airport b): \n",
    "This function finds whether a food box can be sent from airport a to airport b with any number of stops/transfers (i.e. to deliver the food box from airport a to airport b it might even get transferred on another flight at an intermediary airport c). \n",
    "The function reads the input airports from the file promptsPS15.txt with the tag as shown below.\n",
    "\n",
    "ServiceAvailability: Calcutta: Mumbai\n",
    "\n",
    "ServiceAvailability: Nagpur: Vishakhapatnam\n",
    "\n",
    "\n",
    "Also display the entire route to transfer the food box from airport a to airport b. \n",
    "The output of this function should be appended into outputPS15.txt file. \n",
    "If the food box can’t be transferred or an airport is not found, an appropriate message should be output to the file. \n",
    "The output format should be as mentioned below.\n",
    "\n",
    "--------Function findServiceAvailable --------\n",
    "\n",
    "Airport A: Calcutta\n",
    "\n",
    "Airport B: Nagpur\n",
    "\n",
    "\n",
    "Can the food box be sent: Yes, Calcutta > Indigo666 > New Delhi > AirIndia111 > Ahmedabad > GoAir444 > Nagpur (if no, display appropriate message)\n",
    "\n",
    "-----------------------------------------\n"
   ]
  },
  {
   "cell_type": "markdown",
   "metadata": {},
   "source": [
    "### Algorithm\n",
    "1. check if direct flight is available by calling displayDirectFlight(self, airport a, airport b)\n",
    "2. If yes, then return the path and exit\n",
    "3. If No, get the list of connected flights of the source airport\n",
    "\n",
    "    4. For each flight get the list of connected air ports\n",
    "\n",
    "        5. Keep a record on the visited airports\n",
    "\n",
    "        6. Repeat recursively until direct flight to the destination airport is found\n",
    "        "
   ]
  },
  {
   "cell_type": "code",
   "execution_count": 17,
   "metadata": {},
   "outputs": [],
   "source": [
    "# Global variable to keep track of visited airports during the recursive calls\n",
    "visited_airports = [False]*len(airports_dict)\n",
    "path = []\n",
    "@validate_airport_name\n",
    "def findServiceAvailableRecursive(airport_a,airport_b):\n",
    "    # Notice that case0 won't occur since if there is no path from a -> b then b won't be marked as visited\n",
    "    # # case0: No service available (all airports visited)\n",
    "    # if all(visited_airports):\n",
    "    #     print(\"No service available\")\n",
    "    #     return -1\n",
    "    # Case1: Already visited source airport\n",
    "    if visited_airports[airports_dict[airport_a]]:\n",
    "        return None\n",
    "    # Case2: Destination airport found/ Direct flight exists to destination\n",
    "    elif (flight := displayDirectFlight(airport_a,airport_b,True)) is not None:\n",
    "        path.insert(0,airport_b)\n",
    "        path.insert(0,flight)\n",
    "        return True\n",
    "    # Case3: Destination airport not found / No direct flight exists to destination (Recursive calls)\n",
    "    else:\n",
    "        # mark source airport as visited\n",
    "        visited_airports[airports_dict[airport_a]] = True\n",
    "        # List of connected flights to source airport\n",
    "        connected_flights = displayConnectedFlights(airport_a)\n",
    "        for connected_flight in connected_flights:\n",
    "            # List of connected airports for a connected flight\n",
    "            connected_airports = displayConnectedAirports(connected_flight,True)\n",
    "            for connected_airport in connected_airports:\n",
    "                # Recursively find the path from connected airport to destination airport\n",
    "                # print(\"Call -> findServiceAvailableRecursive({},{})\".format(connected_airport,airport_b))\n",
    "                result = findServiceAvailableRecursive(connected_airport,airport_b)\n",
    "                # print(\"Call -> findServiceAvailableRecursive({},{})  Result: {}\".format(connected_airport,airport_b,result))\n",
    "                # Merge the result from recursive call\n",
    "                if result==True:\n",
    "                    path.insert(0,connected_airport)\n",
    "                    path.insert(0,connected_flight)\n",
    "                    return result\n",
    "                    \n",
    "\n",
    "\n",
    "\n",
    "\n",
    "\n",
    "\n",
    "\n"
   ]
  },
  {
   "cell_type": "code",
   "execution_count": 18,
   "metadata": {},
   "outputs": [
    {
     "name": "stdout",
     "output_type": "stream",
     "text": [
      "[]\n"
     ]
    }
   ],
   "source": [
    "# findServiceAvailableRecursive(\"Chennai\",\"Nagpur\")\n",
    "findServiceAvailableRecursive(\"Chennai\",\"Hyderabad\")\n",
    "print(path)"
   ]
  },
  {
   "cell_type": "markdown",
   "metadata": {},
   "source": [
    "##### Wrapper function for findServiceAvailableRecursive()"
   ]
  },
  {
   "cell_type": "code",
   "execution_count": 19,
   "metadata": {},
   "outputs": [],
   "source": [
    "@validate_airport_name\n",
    "def findServiceAvailable(airport_a,airport_b):\n",
    "    global visited_airports\n",
    "    visited_airports = [False]*len(airports_dict)\n",
    "    global path\n",
    "    path = []\n",
    "    output_msg = \"\\n--------Function findServiceAvailable --------\\n\"\n",
    "    output_msg += \"Airport A: {}\\n\".format(airport_a)\n",
    "    output_msg += \"Airport B: {}\\n\".format(airport_b)\n",
    "    findServiceAvailableRecursive(airport_a,airport_b)\n",
    "    if len(path)!=0:\n",
    "        # path.insert(0,airport_a)\n",
    "        output_msg += \"Can the food box be sent: Yes, \"\n",
    "        output_msg += \"{} \".format(airport_a)\n",
    "        for i in path:\n",
    "            output_msg += \"> {} \".format(i)\n",
    "    # This condition is not being hit. Check !!!\n",
    "    else:\n",
    "        output_msg += \"Can the food box be sent: No, Sorry there is no service available from {} to {}\\n\".format(airport_a,airport_b)\n",
    "    output_msg += \"\\n-----------------------------------------\\n\"\n",
    "    print(output_msg)\n",
    "    write_to_file(output_msg)"
   ]
  },
  {
   "cell_type": "code",
   "execution_count": 22,
   "metadata": {},
   "outputs": [
    {
     "name": "stdout",
     "output_type": "stream",
     "text": [
      "\n",
      "--------Function findServiceAvailable --------\n",
      "Airport A: Chennai\n",
      "Airport B: Mumbai\n",
      "Can the food box be sent: Yes, Chennai > Indigo666 > New Delhi > AirIndia111 > Ahmedabad > Spicejet222 > Mumbai \n",
      "-----------------------------------------\n",
      "\n",
      "\n",
      "--------Function findServiceAvailable --------\n",
      "Airport A: Chennai\n",
      "Airport B: Nagpur\n",
      "Can the food box be sent: Yes, Chennai > Indigo666 > New Delhi > VGT123 > Nagpur \n",
      "-----------------------------------------\n",
      "\n",
      "\n",
      "--------Function findServiceAvailable --------\n",
      "Airport A: Chennai\n",
      "Airport B: Vishakhapatnam\n",
      "Can the food box be sent: No, Sorry there is no service available from Chennai to Vishakhapatnam\n",
      "\n",
      "-----------------------------------------\n",
      "\n"
     ]
    }
   ],
   "source": [
    "findServiceAvailable(\"Chennai\",\"Mumbai\")\n",
    "findServiceAvailable(\"Chennai\",\"Nagpur\")\n",
    "findServiceAvailable(\"Chennai\",\"Vishakhapatnam\")"
   ]
  },
  {
   "cell_type": "code",
   "execution_count": null,
   "metadata": {},
   "outputs": [],
   "source": []
  }
 ],
 "metadata": {
  "kernelspec": {
   "display_name": "Python 3",
   "language": "python",
   "name": "python3"
  },
  "language_info": {
   "codemirror_mode": {
    "name": "ipython",
    "version": 3
   },
   "file_extension": ".py",
   "mimetype": "text/x-python",
   "name": "python",
   "nbconvert_exporter": "python",
   "pygments_lexer": "ipython3",
   "version": "3.8.8"
  }
 },
 "nbformat": 4,
 "nbformat_minor": 4
}
