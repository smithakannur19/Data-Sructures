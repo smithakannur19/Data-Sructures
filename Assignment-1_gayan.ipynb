{
 "cells": [
  {
   "cell_type": "markdown",
   "metadata": {},
   "source": [
    "**Problem Statement** <br/>\n",
    "Assume you work for a start-up company whose business model is to make available local delicacies \n",
    "across India. They work on the promise of same day delivery of food items across India and are trying \n",
    "to build a logistical chain for the same which can deliver across Airports using their patented food \n",
    "boxes which preserve the food quality within transit. Your team is tasked with developing a system \n",
    "which can record all air cargo delivery routes that are available between airports in India. The data is \n",
    "captured such that each cargo plane and its associated airports are captured as vertices and the \n",
    "association as edges. Assume that the flights are bi-directional, that means the same cargo flight \n",
    "number is used for the onward and return journey. "
   ]
  },
  {
   "cell_type": "markdown",
   "metadata": {},
   "source": [
    "**Reading the data**"
   ]
  },
  {
   "cell_type": "markdown",
   "metadata": {},
   "source": [
    "def readAirportFlightfile(self, inputfile): This function reads the input file inputPS15.txt\n",
    "containing the name of the airport and the cargo flights between them in one line separated \n",
    "by a slash. A sample input file entry is shown below. The flight number is the first entry in \n",
    "each row followed by the different airports it services separated by a slash ‘/’ <br/><br/>\n",
    "indigo777 / Chennai / New Delhi <br/><br/>\n",
    "The function should create relevant vertices for both the cargo flights and its associated \n",
    "airports and relevant edges to indicate the association of a flight and its connecting airports. \n",
    "Ensure that the vertices are unique and there are no duplicates.\n"
   ]
  },
  {
   "cell_type": "code",
   "execution_count": 1,
   "metadata": {},
   "outputs": [],
   "source": [
    "# Enable/disable debug mode\n",
    "debug = 1"
   ]
  },
  {
   "cell_type": "code",
   "execution_count": 2,
   "metadata": {},
   "outputs": [],
   "source": [
    "def print_matrix(matrix):\n",
    "    r,c = len(matrix), len(matrix[0])\n",
    "    for i in range(r):\n",
    "        for j in range(c):\n",
    "            print(matrix[i][j], end='\\t')\n",
    "        print()"
   ]
  },
  {
   "cell_type": "code",
   "execution_count": 3,
   "metadata": {},
   "outputs": [],
   "source": [
    "def readAirportFlightfile(inputfile):\n",
    "    with open(inputfile, \"r\") as f:\n",
    "        data = f.readlines()\n",
    "    if debug:\n",
    "        print(\"Read Data --> \", data)\n",
    "\n",
    "    airports_dict= {}\n",
    "    flights_dict= {}\n",
    "    graph_data = {}\n",
    "    n_counter, e_counter = 0, 0\n",
    "    for i in data:\n",
    "        i = i.split(\"/\")\n",
    "        i = list(map(str.strip, i))\n",
    "        if \"\" in i:\n",
    "            i.remove(\"\")\n",
    "        if len(i) != 0:\n",
    "            edge = i[0]\n",
    "            nodes = i[1:]\n",
    "            if edge not in graph_data:\n",
    "                graph_data[edge] = []\n",
    "                for n in nodes:\n",
    "                    if n not in graph_data[edge]:\n",
    "                        graph_data[edge].append(n)\n",
    "            if edge not in list(flights_dict.keys()):\n",
    "                flights_dict[edge] = e_counter\n",
    "                e_counter = e_counter + 1\n",
    "            for n in nodes:\n",
    "                if n not in list(airports_dict.keys()):\n",
    "                    airports_dict[n] = n_counter\n",
    "                    n_counter = n_counter + 1\n",
    "\n",
    "    # Fill adjacency matrix\n",
    "    # matrix rows = flights\n",
    "    # matrix cols = airports    \n",
    "    r,c = len(flights_dict), len(airports_dict)\n",
    "    adj_matrix = [[0]*c for _ in range(r)]\n",
    "\n",
    "\n",
    "    for flight in graph_data:\n",
    "        row_id = flights_dict[flight]\n",
    "        for airport in graph_data[flight]:\n",
    "            col_id = airports_dict[airport]\n",
    "            adj_matrix[row_id][col_id] = 1\n",
    "\n",
    "    \n",
    "    return adj_matrix, airports_dict, flights_dict "
   ]
  },
  {
   "cell_type": "code",
   "execution_count": 4,
   "metadata": {},
   "outputs": [
    {
     "name": "stdout",
     "output_type": "stream",
     "text": [
      "Read Data -->  ['Indigo666 / Chennai / New Delhi\\n', 'Indigo777 / Calcutta / New Delhi\\n', 'Spicejet222 / Ahmedabad / Nagpur / Mumbai\\n', 'AirIndia111 / Ahmedabad / New Delhi\\n', 'Vistara555 / Vishakhapatnam / Hyderabad']\n",
      "1\t1\t0\t0\t0\t0\t0\t0\t\n",
      "0\t1\t1\t0\t0\t0\t0\t0\t\n",
      "0\t0\t0\t1\t1\t1\t0\t0\t\n",
      "0\t1\t0\t1\t0\t0\t0\t0\t\n",
      "0\t0\t0\t0\t0\t0\t1\t1\t\n"
     ]
    }
   ],
   "source": [
    "adj_matrix, airports_dict, flights_dict = readAirportFlightfile(\"inputPS15.txt\")\n",
    "print_matrix(adj_matrix)\n",
    "# print(graph_data)\n",
    "# print(\"Airports: \", airports_dict)\n",
    "# print(\"Flights: \", flight_dict)"
   ]
  },
  {
   "cell_type": "markdown",
   "metadata": {},
   "source": [
    "**List of unique cargo planes and list of unique airports that have delivery service.**"
   ]
  },
  {
   "cell_type": "markdown",
   "metadata": {},
   "source": [
    "def showAll(self): This function displays the count of unique cargo flights and airports \n",
    "entered through the input file. It should also list out the unique cargo flights and airports that \n",
    "have cargo service stored. This function is called after all input data has been captured. The \n",
    "output of this function should be pushed into outputPS15.txt file. The output format should \n",
    "be as mentioned below. "
   ]
  },
  {
   "cell_type": "code",
   "execution_count": 7,
   "metadata": {},
   "outputs": [],
   "source": [
    "def showAll():\n",
    "        \n",
    "    cargo_flights = list(flights_dict.keys())\n",
    "    airports = list(airports_dict.keys())\n",
    "    \n",
    "    out_file = open('outputPS15.txt', 'w')\n",
    "\n",
    "    print(\"--------Function showAll --------\")\n",
    "    out_file.write(\"--------Function showAll --------\")\n",
    "    \n",
    "    print(\"\\nTotal number of cargo flights: \", len(cargo_flights))\n",
    "    out_file.write(\"Total number of cargo flights: {}\".format(len(cargo_flights)))\n",
    "    \n",
    "    print(\"Total number of Airports: \", len(airports))\n",
    "    out_file.write(\"\\nTotal number of Airports: {}\".format(len(airports)))\n",
    "    \n",
    "    print(\"\\nList of cargo flights: \")\n",
    "    out_file.write(\"\\n\\nList of cargo flights: \")\n",
    "    for i in cargo_flights:\n",
    "        print(i)\n",
    "        out_file.write(\"\\n{}\".format(i))\n",
    "\n",
    "    print(\"\\nList of Airports: \")\n",
    "    out_file.write(\"\\n\\nList of Airports: \")\n",
    "    for i in airports:\n",
    "        print(i)\n",
    "        out_file.write(\"\\n{}\".format(i))\n",
    "    \n",
    "    out_file.close()"
   ]
  },
  {
   "cell_type": "code",
   "execution_count": 8,
   "metadata": {},
   "outputs": [
    {
     "name": "stdout",
     "output_type": "stream",
     "text": [
      "--------Function showAll --------\n",
      "\n",
      "Total number of cargo flights:  5\n",
      "Total number of Airports:  8\n",
      "\n",
      "List of cargo flights: \n",
      "Indigo666\n",
      "Indigo777\n",
      "Spicejet222\n",
      "AirIndia111\n",
      "Vistara555\n",
      "\n",
      "List of Airports: \n",
      "Chennai\n",
      "New Delhi\n",
      "Calcutta\n",
      "Ahmedabad\n",
      "Nagpur\n",
      "Mumbai\n",
      "Vishakhapatnam\n",
      "Hyderabad\n"
     ]
    }
   ],
   "source": [
    "showAll()"
   ]
  },
  {
   "cell_type": "markdown",
   "metadata": {},
   "source": [
    "###  def displayHubAirport(self): \n",
    "This function displays the name of the airport which is visited by the most number of cargo flights. The function also displays the names of the incoming cargo flights to the outputPS15 file. \n",
    "The function is triggered when the ‘searchHubAirport’ tag is found in the file promptsPS15.txt file.\n",
    "\n",
    "searchHubAirport:\n",
    "\n",
    "The output of this function should be appended into outputPS15.txt file. \n",
    "The output format should be as mentioned below.\n",
    "\n",
    "\"-------- Function displayHubAirport --------\n",
    "\n",
    "Main hub airport: New Delhi\n",
    "\n",
    "Number of cargo flights visited: 3\n",
    "\n",
    "List of Cargo Flights:\n",
    "\n",
    "Indigo666\n",
    "\n",
    "AirIndia111\n",
    "\n",
    "GoAir222\n",
    "\n",
    "\n",
    "-----------------------------------------\""
   ]
  },
  {
   "cell_type": "code",
   "execution_count": 75,
   "metadata": {},
   "outputs": [],
   "source": [
    "def displayHubAirport():\n",
    "    max_tot_flights = 0\n",
    "    hub_airport = \"\"\n",
    "    hub_flights_lst = []\n",
    "    airports = list(airports_dict.keys())\n",
    "    flights = list(flights_dict.keys())\n",
    "    for airport in airports:\n",
    "        # print(airports_dict[airport])\n",
    "        airport_id = airports_dict[airport]\n",
    "        # print(airport_id)\n",
    "        total_flights = 0\n",
    "        flights_lst = []\n",
    "        for flight in flights:\n",
    "            flight_id = flights_dict[flight]\n",
    "            total_flights += adj_matrix[flight_id][airport_id]\n",
    "            if adj_matrix[flight_id][airport_id]:\n",
    "                flights_lst.append(flight)\n",
    "        if max_tot_flights < total_flights:\n",
    "            max_tot_flights = total_flights\n",
    "            hub_airport = airport\n",
    "            hub_flights_lst = flights_lst\n",
    "\n",
    "    \n",
    "    out_file = open('outputPS15.txt', 'w')\n",
    "\n",
    "\n",
    "    print(\"--------Function displayHubAirport --------\")\n",
    "    out_file.write(\"--------Function displayHubAirport --------\")\n",
    "    print(\"\\nMain hub airport: {}\".format(hub_airport))\n",
    "    out_file.write(\"\\nMain hub airport: {}\".format(hub_airport))\n",
    "    print(\"Number of cargo flights visited: \",max_tot_flights)\n",
    "    out_file.write(\"\\nNumber of cargo flights visited: {}\".format(max_tot_flights))\n",
    "    print(\"List of Cargo Flights:\")\n",
    "    out_file.write(\"\\nList of Cargo Flights:\")\n",
    "    for f in hub_flights_lst:\n",
    "        print(f)\n",
    "        out_file.write(\"\\n{}\".format(f))\n",
    "    print(\"-----------------------------------------\")\n",
    "    out_file.write(\"\\n-----------------------------------------\")\n",
    "    out_file.close()"
   ]
  },
  {
   "cell_type": "code",
   "execution_count": 76,
   "metadata": {},
   "outputs": [
    {
     "name": "stdout",
     "output_type": "stream",
     "text": [
      "--------Function displayHubAirport --------\n",
      "\n",
      "Main hub airport: New Delhi\n",
      "Number of cargo flights visited:  3\n",
      "List of Cargo Flights:\n",
      "Indigo666\n",
      "Indigo777\n",
      "AirIndia111\n",
      "-----------------------------------------\n"
     ]
    }
   ],
   "source": [
    "displayHubAirport()"
   ]
  },
  {
   "cell_type": "markdown",
   "metadata": {},
   "source": [
    "This function displays all the airports are connected by a single cargo flight. The function reads the input cargo flight number from the file promptsPS15.txt with the tag as shown below.\n",
    "\n",
    "searchFlight: Indigo666\n",
    "\n",
    "searchFlight: AirIndia111\n",
    "\n",
    "The output of this function should be appended into outputPS15.txt file. If a flight is not found, an appropriate message should be output to file. \n",
    "The output format should be as mentioned below.\n",
    "\n",
    "--------Function displayConnectedAirports --------\n",
    "\n",
    "Cargo flight number: Indigo666\n",
    "\n",
    "Number of airports connected: 3\n",
    "\n",
    "List of airports connected directly by : Indigo666\n",
    "\n",
    "Ahmedabad\n",
    "\n",
    "Mumbai\n",
    "\n",
    "Nagpur\n",
    "\n",
    "-----------------------------------------\n"
   ]
  },
  {
   "cell_type": "code",
   "execution_count": 71,
   "metadata": {},
   "outputs": [],
   "source": [
    "def displayConnectedAirports(flight):\n",
    "    connected_airports = []\n",
    "    airports = list(airports_dict.keys())\n",
    "    flight_id = flights_dict[flight]\n",
    "    for airport in airports:\n",
    "        airport_id = airports_dict[airport]\n",
    "        if adj_matrix[flight_id][airport_id]:\n",
    "            connected_airports.append(airport)\n",
    "\n",
    "    \n",
    "    out_file = open('outputPS15.txt', 'w')\n",
    "\n",
    "    print(\"--------Function displayConnectedAirports --------\")\n",
    "    out_file.write(\"\\n--------Function displayConnectedAirports --------\")\n",
    "    print(\"Cargo flight number: \", flight)\n",
    "    out_file.write(\"\\nCargo flight number: {}\".format(flight))\n",
    "    print(\"Number of airports connected: \", len(connected_airports))\n",
    "    out_file.write(\"\\nNumber of airports connected: {}\".format(len(connected_airports)))\n",
    "    print(\"List of airports connected directly by :\", flight)\n",
    "    out_file.write(\"\\nList of airports connected directly by : {}\".format(flight))\n",
    "    for ap in connected_airports:\n",
    "        print(ap)\n",
    "        out_file.write(\"\\n {}\".format(ap))\n",
    "    print(\"-----------------------------------------\")\n",
    "    out_file.write(\"\\n-----------------------------------------\")\n",
    "    "
   ]
  },
  {
   "cell_type": "code",
   "execution_count": 72,
   "metadata": {},
   "outputs": [
    {
     "name": "stdout",
     "output_type": "stream",
     "text": [
      "--------Function displayConnectedAirports --------\n",
      "Cargo flight number:  Spicejet222\n",
      "Number of airports connected:  3\n",
      "List of airports connected directly by : Spicejet222\n",
      "Ahmedabad\n",
      "Nagpur\n",
      "Mumbai\n",
      "-----------------------------------------\n"
     ]
    }
   ],
   "source": [
    "displayConnectedAirports(\"Spicejet222\")"
   ]
  },
  {
   "cell_type": "code",
   "execution_count": null,
   "metadata": {},
   "outputs": [],
   "source": []
  }
 ],
 "metadata": {
  "kernelspec": {
   "display_name": "Python 3",
   "language": "python",
   "name": "python3"
  },
  "language_info": {
   "codemirror_mode": {
    "name": "ipython",
    "version": 3
   },
   "file_extension": ".py",
   "mimetype": "text/x-python",
   "name": "python",
   "nbconvert_exporter": "python",
   "pygments_lexer": "ipython3",
   "version": "3.8.8"
  }
 },
 "nbformat": 4,
 "nbformat_minor": 4
}
