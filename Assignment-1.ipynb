{
 "cells": [
  {
   "cell_type": "markdown",
   "metadata": {},
   "source": [
    "**Problem Statement** <br/>\n",
    "Assume you work for a start-up company whose business model is to make available local delicacies \n",
    "across India. They work on the promise of same day delivery of food items across India and are trying \n",
    "to build a logistical chain for the same which can deliver across Airports using their patented food \n",
    "boxes which preserve the food quality within transit. Your team is tasked with developing a system \n",
    "which can record all air cargo delivery routes that are available between airports in India. The data is \n",
    "captured such that each cargo plane and its associated airports are captured as vertices and the \n",
    "association as edges. Assume that the flights are bi-directional, that means the same cargo flight \n",
    "number is used for the onward and return journey. "
   ]
  },
  {
   "cell_type": "markdown",
   "metadata": {},
   "source": [
    "**Reading the data**"
   ]
  },
  {
   "cell_type": "markdown",
   "metadata": {},
   "source": [
    "def readAirportFlightfile(self, inputfile): This function reads the input file inputPS15.txt\n",
    "containing the name of the airport and the cargo flights between them in one line separated \n",
    "by a slash. A sample input file entry is shown below. The flight number is the first entry in \n",
    "each row followed by the different airports it services separated by a slash ‘/’ <br/><br/>\n",
    "indigo777 / Chennai / New Delhi <br/><br/>\n",
    "The function should create relevant vertices for both the cargo flights and its associated \n",
    "airports and relevant edges to indicate the association of a flight and its connecting airports. \n",
    "Ensure that the vertices are unique and there are no duplicates.\n"
   ]
  },
  {
   "cell_type": "code",
   "execution_count": 75,
   "metadata": {},
   "outputs": [],
   "source": [
    "def readAirportFlightfile(inputfile):\n",
    "    with open(inputfile, \"r\") as f:\n",
    "        data = f.readlines()\n",
    "    print(\"Read Data --> \", data)\n",
    "    \n",
    "    visited_node = {}\n",
    "    visited_edge = {}\n",
    "    graph_data = {}\n",
    "    n_counter, e_counter = 0, 0\n",
    "    for i in data:\n",
    "        i = i.split(\"/\")\n",
    "        i = list(map(str.strip, i))\n",
    "        if \"\" in i:\n",
    "            i.remove(\"\")\n",
    "        if len(i) != 0:\n",
    "            edge = i[0]\n",
    "            nodes = i[1:]\n",
    "            if edge not in graph_data:\n",
    "                graph_data[edge] = []\n",
    "                for n in nodes:\n",
    "                    if n not in graph_data[edge]:\n",
    "                        graph_data[edge].append(n)\n",
    "            if edge not in list(visited_edge.keys()):\n",
    "                visited_edge[edge] = e_counter\n",
    "                e_counter = e_counter + 1\n",
    "            for n in nodes:\n",
    "                if n not in list(visited_node.keys()):\n",
    "                    visited_node[n] = n_counter\n",
    "                    n_counter = n_counter + 1\n",
    "    \n",
    "    return graph_data, visited_node, visited_edge"
   ]
  },
  {
   "cell_type": "markdown",
   "metadata": {},
   "source": [
    "**List of unique cargo planes and list of unique airports that have delivery service.**"
   ]
  },
  {
   "cell_type": "markdown",
   "metadata": {},
   "source": [
    "def showAll(self): This function displays the count of unique cargo flights and airports \n",
    "entered through the input file. It should also list out the unique cargo flights and airports that \n",
    "have cargo service stored. This function is called after all input data has been captured. The \n",
    "output of this function should be pushed into outputPS15.txt file. The output format should \n",
    "be as mentioned below. "
   ]
  },
  {
   "cell_type": "code",
   "execution_count": 84,
   "metadata": {},
   "outputs": [],
   "source": [
    "def showAll(graph_data, visited_node, visited_edge):\n",
    "    for e in graph_data:\n",
    "        edge = e\n",
    "        node = graph_data[e]\n",
    "        node_pairs = [[node[i], node[i + 1]] for i in range(len(node) - 1)]\n",
    "        for pair in node_pairs:\n",
    "            n1 = pair[0]\n",
    "            n2 = pair[1]\n",
    "            n1_index, n2_index = visited_node[n1], visited_node[n2]\n",
    "            adj_matrix[n1_index][n2_index] = 1\n",
    "            adj_matrix[n2_index][n1_index] = 1\n",
    "    \n",
    "    cargo_flights = list(visited_edge.keys())\n",
    "    airports = list(visited_node.keys())\n",
    "    \n",
    "    out_file = open('./output/outputPS15.txt', 'w')\n",
    "\n",
    "    print(\"\\nTotal number of cargo flights: \", len(cargo_flights))\n",
    "    out_file.write(\"Total number of cargo flights: {}\".format(len(cargo_flights)))\n",
    "    \n",
    "    print(\"Total number of Airports: \", len(airports))\n",
    "    out_file.write(\"\\nTotal number of Airports: {}\".format(len(airports)))\n",
    "    \n",
    "    print(\"\\nList of cargo flights: \")\n",
    "    out_file.write(\"\\n\\nList of cargo flights: \")\n",
    "    for i in cargo_flights:\n",
    "        print(i)\n",
    "        out_file.write(\"\\n{}\".format(i))\n",
    "\n",
    "    print(\"\\nList of Airports: \")\n",
    "    out_file.write(\"\\n\\nList of Airports: \")\n",
    "    for i in airports:\n",
    "        print(i)\n",
    "        out_file.write(\"\\n{}\".format(i))\n",
    "    \n",
    "    out_file.close()\n",
    "    return adj_matrix"
   ]
  },
  {
   "cell_type": "code",
   "execution_count": 86,
   "metadata": {},
   "outputs": [
    {
     "name": "stdout",
     "output_type": "stream",
     "text": [
      "Read Data -->  ['Indigo666 / Chennai / New Delhi\\n', 'Indigo777 / Calcutta / New Delhi\\n', 'Spicejet222 / Ahmedabad / Nagpur / Mumbai\\n', 'AirIndia111 / Ahmedabad / New Delhi\\n', 'Vistara555 / Vishakhapatnam / Hyderabad']\n",
      "\n",
      "Total number of cargo flights:  5\n",
      "Total number of Airports:  8\n",
      "\n",
      "List of cargo flights: \n",
      "Indigo666\n",
      "Indigo777\n",
      "Spicejet222\n",
      "AirIndia111\n",
      "Vistara555\n",
      "\n",
      "List of Airports: \n",
      "Chennai\n",
      "New Delhi\n",
      "Calcutta\n",
      "Ahmedabad\n",
      "Nagpur\n",
      "Mumbai\n",
      "Vishakhapatnam\n",
      "Hyderabad\n"
     ]
    }
   ],
   "source": [
    "graph_data, visited_node, visited_edge = readAirportFlightfile(\"./input/inputPS15.txt\")\n",
    "graph_adj_atrix = showAll(graph_data, visited_node, visited_edge)"
   ]
  },
  {
   "cell_type": "code",
   "execution_count": null,
   "metadata": {},
   "outputs": [],
   "source": []
  }
 ],
 "metadata": {
  "kernelspec": {
   "display_name": "Python 3",
   "language": "python",
   "name": "python3"
  },
  "language_info": {
   "codemirror_mode": {
    "name": "ipython",
    "version": 3
   },
   "file_extension": ".py",
   "mimetype": "text/x-python",
   "name": "python",
   "nbconvert_exporter": "python",
   "pygments_lexer": "ipython3",
   "version": "3.8.5"
  }
 },
 "nbformat": 4,
 "nbformat_minor": 4
}
