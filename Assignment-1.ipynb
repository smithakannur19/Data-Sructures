{
 "cells": [
  {
   "cell_type": "markdown",
   "metadata": {},
   "source": [
    "**Problem Statement** <br/>\n",
    "Assume you work for a start-up company whose business model is to make available local delicacies \n",
    "across India. They work on the promise of same day delivery of food items across India and are trying \n",
    "to build a logistical chain for the same which can deliver across Airports using their patented food \n",
    "boxes which preserve the food quality within transit. Your team is tasked with developing a system \n",
    "which can record all air cargo delivery routes that are available between airports in India. The data is \n",
    "captured such that each cargo plane and its associated airports are captured as vertices and the \n",
    "association as edges. Assume that the flights are bi-directional, that means the same cargo flight \n",
    "number is used for the onward and return journey. "
   ]
  },
  {
   "cell_type": "markdown",
   "metadata": {},
   "source": [
    "**Reading the data**"
   ]
  },
  {
   "cell_type": "markdown",
   "metadata": {},
   "source": [
    "def readAirportFlightfile(self, inputfile): This function reads the input file inputPS15.txt\n",
    "containing the name of the airport and the cargo flights between them in one line separated \n",
    "by a slash. A sample input file entry is shown below. The flight number is the first entry in \n",
    "each row followed by the different airports it services separated by a slash ‘/’ <br/><br/>\n",
    "indigo777 / Chennai / New Delhi <br/><br/>\n",
    "The function should create relevant vertices for both the cargo flights and its associated \n",
    "airports and relevant edges to indicate the association of a flight and its connecting airports. \n",
    "Ensure that the vertices are unique and there are no duplicates.\n"
   ]
  },
  {
   "cell_type": "code",
   "execution_count": 3,
   "metadata": {},
   "outputs": [],
   "source": [
    "def readAirportFlightfile(inputfile):\n",
    "    with open(inputfile, \"r\") as f:\n",
    "        data = f.readlines()\n",
    "    print(\"Read Data --> \", data)\n",
    "    return data"
   ]
  },
  {
   "cell_type": "markdown",
   "metadata": {},
   "source": [
    "**List of unique cargo planes and list of unique airports that have delivery service.**"
   ]
  },
  {
   "cell_type": "markdown",
   "metadata": {},
   "source": [
    "def showAll(self): This function displays the count of unique cargo flights and airports \n",
    "entered through the input file. It should also list out the unique cargo flights and airports that \n",
    "have cargo service stored. This function is called after all input data has been captured. The \n",
    "output of this function should be pushed into outputPS15.txt file. The output format should \n",
    "be as mentioned below. "
   ]
  },
  {
   "cell_type": "code",
   "execution_count": 5,
   "metadata": {},
   "outputs": [
    {
     "name": "stdout",
     "output_type": "stream",
     "text": [
      "Read Data -->  ['Indigo666 / Chennai / New Delhi\\n', 'Indigo777 / Calcutta / New Delhi\\n', 'Spicejet222 / Ahmedabad / Nagpur / Mumbai\\n', 'AirIndia111 / Ahmedabad / New Delhi\\n', 'Vistara555 / Vishakhapatnam / Hyderabad\\n', 'Indigo777 / Calcutta / New Delhi / Bangalore\\n', 'AirIndia111 / Ahmedabad\\n', 'AirAsia444 /']\n",
      "\n",
      "Graph Adjacency List -->  {'Indigo666': ['Chennai', 'New Delhi'], 'Indigo777': ['Calcutta', 'New Delhi', 'Bangalore'], 'Spicejet222': ['Mumbai', 'Nagpur', 'Ahmedabad'], 'AirIndia111': ['New Delhi', 'Ahmedabad'], 'Vistara555': ['Vishakhapatnam', 'Hyderabad'], 'AirAsia444': []}\n",
      "\n",
      "Total number of cargo flights:  6\n",
      "Total number of Airports:  9\n",
      "\n",
      "List of cargo flights: \n",
      "Indigo666\n",
      "Indigo777\n",
      "Spicejet222\n",
      "AirIndia111\n",
      "Vistara555\n",
      "AirAsia444\n",
      "\n",
      "List of Airports: \n",
      "Nagpur\n",
      "Chennai\n",
      "Bangalore\n",
      "Calcutta\n",
      "Vishakhapatnam\n",
      "Mumbai\n",
      "Hyderabad\n",
      "New Delhi\n",
      "Ahmedabad\n"
     ]
    }
   ],
   "source": [
    "def showAll(data):\n",
    "    graph = {}\n",
    "    for i in data:\n",
    "        i = i.split(\"/\")\n",
    "        i = list(map(str.strip, i))\n",
    "        if \"\" in i:\n",
    "            i.remove(\"\")\n",
    "        if len(i) != 0:\n",
    "            node = i[0]\n",
    "            if node not in graph:\n",
    "                graph[node] = []\n",
    "            vertices = list(set(graph[node] + i[1:]))\n",
    "            graph[node] = vertices\n",
    "    \n",
    "    print(\"\\nGraph Adjacency List --> \", graph)\n",
    "    \n",
    "    cargo_flights = list(graph.keys())\n",
    "    airports = list(set([j for i in list(graph.values()) for j in i]))\n",
    "    \n",
    "    out_file = open('./output/outputPS15.txt', 'w')\n",
    "\n",
    "    print(\"\\nTotal number of cargo flights: \", len(cargo_flights))\n",
    "    out_file.write(\"Total number of cargo flights: {}\".format(len(cargo_flights)))\n",
    "    \n",
    "    print(\"Total number of Airports: \", len(airports))\n",
    "    out_file.write(\"\\nTotal number of Airports: {}\".format(len(airports)))\n",
    "    \n",
    "    print(\"\\nList of cargo flights: \")\n",
    "    out_file.write(\"\\n\\nList of cargo flights: \")\n",
    "    for i in cargo_flights:\n",
    "        print(i)\n",
    "        out_file.write(\"\\n{}\".format(i))\n",
    "\n",
    "    print(\"\\nList of Airports: \")\n",
    "    out_file.write(\"\\n\\nList of Airports: \")\n",
    "    for i in airports:\n",
    "        print(i)\n",
    "        out_file.write(\"\\n{}\".format(i))\n",
    "    \n",
    "    out_file.close()\n",
    "    return graph\n",
    "\n",
    "graph_data = readAirportFlightfile(\"./input/inputPS15.txt\")\n",
    "\n",
    "graph_adj_list = showAll(graph_data)\n"
   ]
  },
  {
   "cell_type": "code",
   "execution_count": null,
   "metadata": {},
   "outputs": [],
   "source": []
  }
 ],
 "metadata": {
  "kernelspec": {
   "display_name": "Python 3",
   "language": "python",
   "name": "python3"
  },
  "language_info": {
   "codemirror_mode": {
    "name": "ipython",
    "version": 3
   },
   "file_extension": ".py",
   "mimetype": "text/x-python",
   "name": "python",
   "nbconvert_exporter": "python",
   "pygments_lexer": "ipython3",
   "version": "3.8.5"
  }
 },
 "nbformat": 4,
 "nbformat_minor": 4
}
